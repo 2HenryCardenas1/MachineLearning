{
  "nbformat": 4,
  "nbformat_minor": 0,
  "metadata": {
    "colab": {
      "name": "Taller_01.ipynb",
      "provenance": []
    },
    "kernelspec": {
      "name": "python3",
      "display_name": "Python 3"
    },
    "language_info": {
      "name": "python"
    }
  },
  "cells": [
    {
      "cell_type": "markdown",
      "metadata": {
        "id": "LlnQ--XzWaMS"
      },
      "source": [
        "#Ejercicio datasets IRIS"
      ]
    },
    {
      "cell_type": "markdown",
      "metadata": {
        "id": "_ANtnZADWfiL"
      },
      "source": [
        "##Importando librerias y dataset"
      ]
    },
    {
      "cell_type": "code",
      "metadata": {
        "id": "cAaZJ7hNSuBK"
      },
      "source": [
        "import numpy as np\n",
        "import pandas as pd\n",
        "\n",
        "from sklearn.datasets import load_iris                  #dataset sobre la flor iris (uso libre)\n",
        "from sklearn.model_selection import train_test_split    #clase para dividir dataset (train y test)\n",
        "from sklearn.tree import DecisionTreeClassifier         #clase que permite implementar un arbol de desición\n",
        "import matplotlib.pyplot as plt                         #libreria para generar graficos\n",
        "import seaborn as sns           #interfaz de alto nivel para dibujar gráficos estadísticos (basada en matplotlib)\n",
        "from sklearn import datasets\n",
        "from sklearn.model_selection import train_test_split\n",
        "from sklearn.preprocessing import StandardScaler\n",
        "\n",
        "from sklearn.metrics import classification_report,confusion_matrix,accuracy_score,mean_squared_error"
      ],
      "execution_count": 18,
      "outputs": []
    },
    {
      "cell_type": "markdown",
      "metadata": {
        "id": "bVqBc8VzWm-p"
      },
      "source": [
        "###Cargamos los datos del dataset"
      ]
    },
    {
      "cell_type": "code",
      "metadata": {
        "id": "wSQPOfc3S-fF"
      },
      "source": [
        "db_iris = load_iris()"
      ],
      "execution_count": 2,
      "outputs": []
    },
    {
      "cell_type": "code",
      "metadata": {
        "id": "BvZiqACxTAwA"
      },
      "source": [
        "#imprimiento la descripcion del dataset\n",
        "print(db_iris.DESCR)\n",
        "#imprimiento datos del target\n",
        "print(db_iris.target)"
      ],
      "execution_count": null,
      "outputs": []
    },
    {
      "cell_type": "markdown",
      "metadata": {
        "id": "Tluf8AllT4iI"
      },
      "source": [
        "Verificando si hay datos nulos"
      ]
    },
    {
      "cell_type": "code",
      "metadata": {
        "colab": {
          "base_uri": "https://localhost:8080/"
        },
        "id": "6UotY_YUT61-",
        "outputId": "3c6a62f2-775e-461c-99a8-06436839958a"
      },
      "source": [
        "df_iris.isna().sum()"
      ],
      "execution_count": 9,
      "outputs": [
        {
          "output_type": "execute_result",
          "data": {
            "text/plain": [
              "sepal length (cm)    0\n",
              "sepal width (cm)     0\n",
              "petal length (cm)    0\n",
              "petal width (cm)     0\n",
              "target               0\n",
              "dtype: int64"
            ]
          },
          "metadata": {},
          "execution_count": 9
        }
      ]
    },
    {
      "cell_type": "markdown",
      "metadata": {
        "id": "-b4T34KxTJHc"
      },
      "source": [
        "###Convirtiendo el dataset en un dataframe"
      ]
    },
    {
      "cell_type": "code",
      "metadata": {
        "colab": {
          "base_uri": "https://localhost:8080/",
          "height": 204
        },
        "id": "T-SfPcE5TFSu",
        "outputId": "6fff7905-5d66-4556-e057-1f750e9b9cf3"
      },
      "source": [
        "df_iris = pd.DataFrame(db_iris.data, columns=db_iris.feature_names)\n",
        "df_iris['target'] = db_iris.target\n",
        "df_iris.head()"
      ],
      "execution_count": 5,
      "outputs": [
        {
          "output_type": "execute_result",
          "data": {
            "text/html": [
              "<div>\n",
              "<style scoped>\n",
              "    .dataframe tbody tr th:only-of-type {\n",
              "        vertical-align: middle;\n",
              "    }\n",
              "\n",
              "    .dataframe tbody tr th {\n",
              "        vertical-align: top;\n",
              "    }\n",
              "\n",
              "    .dataframe thead th {\n",
              "        text-align: right;\n",
              "    }\n",
              "</style>\n",
              "<table border=\"1\" class=\"dataframe\">\n",
              "  <thead>\n",
              "    <tr style=\"text-align: right;\">\n",
              "      <th></th>\n",
              "      <th>sepal length (cm)</th>\n",
              "      <th>sepal width (cm)</th>\n",
              "      <th>petal length (cm)</th>\n",
              "      <th>petal width (cm)</th>\n",
              "      <th>target</th>\n",
              "    </tr>\n",
              "  </thead>\n",
              "  <tbody>\n",
              "    <tr>\n",
              "      <th>0</th>\n",
              "      <td>5.1</td>\n",
              "      <td>3.5</td>\n",
              "      <td>1.4</td>\n",
              "      <td>0.2</td>\n",
              "      <td>0</td>\n",
              "    </tr>\n",
              "    <tr>\n",
              "      <th>1</th>\n",
              "      <td>4.9</td>\n",
              "      <td>3.0</td>\n",
              "      <td>1.4</td>\n",
              "      <td>0.2</td>\n",
              "      <td>0</td>\n",
              "    </tr>\n",
              "    <tr>\n",
              "      <th>2</th>\n",
              "      <td>4.7</td>\n",
              "      <td>3.2</td>\n",
              "      <td>1.3</td>\n",
              "      <td>0.2</td>\n",
              "      <td>0</td>\n",
              "    </tr>\n",
              "    <tr>\n",
              "      <th>3</th>\n",
              "      <td>4.6</td>\n",
              "      <td>3.1</td>\n",
              "      <td>1.5</td>\n",
              "      <td>0.2</td>\n",
              "      <td>0</td>\n",
              "    </tr>\n",
              "    <tr>\n",
              "      <th>4</th>\n",
              "      <td>5.0</td>\n",
              "      <td>3.6</td>\n",
              "      <td>1.4</td>\n",
              "      <td>0.2</td>\n",
              "      <td>0</td>\n",
              "    </tr>\n",
              "  </tbody>\n",
              "</table>\n",
              "</div>"
            ],
            "text/plain": [
              "   sepal length (cm)  sepal width (cm)  ...  petal width (cm)  target\n",
              "0                5.1               3.5  ...               0.2       0\n",
              "1                4.9               3.0  ...               0.2       0\n",
              "2                4.7               3.2  ...               0.2       0\n",
              "3                4.6               3.1  ...               0.2       0\n",
              "4                5.0               3.6  ...               0.2       0\n",
              "\n",
              "[5 rows x 5 columns]"
            ]
          },
          "metadata": {},
          "execution_count": 5
        }
      ]
    },
    {
      "cell_type": "markdown",
      "metadata": {
        "id": "ouDIzwqQTMip"
      },
      "source": [
        "###Generando el arbol y entrenando"
      ]
    },
    {
      "cell_type": "markdown",
      "metadata": {
        "id": "mAR0ObDJUQPr"
      },
      "source": [
        "Instanciamos el arbol"
      ]
    },
    {
      "cell_type": "code",
      "metadata": {
        "id": "87RVeD2yTdRP"
      },
      "source": [
        "arbol = DecisionTreeClassifier()"
      ],
      "execution_count": 25,
      "outputs": []
    },
    {
      "cell_type": "markdown",
      "metadata": {
        "id": "L3ZYtrOUUYn6"
      },
      "source": [
        "Dividimos los datos(Train y test)"
      ]
    },
    {
      "cell_type": "code",
      "metadata": {
        "id": "GZlHyxASTKug"
      },
      "source": [
        "#dividiremos el dataset en  70% (train) y 30% (test)\n",
        "x_train, x_test, y_train, y_test = train_test_split(df_iris[db_iris.feature_names], df_iris['target'],test_size=0.3, random_state=0)"
      ],
      "execution_count": 26,
      "outputs": []
    },
    {
      "cell_type": "markdown",
      "metadata": {
        "id": "H-zIXJT0Uc6F"
      },
      "source": [
        "Entrenamos"
      ]
    },
    {
      "cell_type": "code",
      "metadata": {
        "colab": {
          "base_uri": "https://localhost:8080/"
        },
        "id": "lSBv6KY5UeNN",
        "outputId": "03c76e38-6efc-4b6c-a00d-fbe12ecd75ed"
      },
      "source": [
        "arbol.fit(x_train, y_train)"
      ],
      "execution_count": 27,
      "outputs": [
        {
          "output_type": "execute_result",
          "data": {
            "text/plain": [
              "DecisionTreeClassifier(ccp_alpha=0.0, class_weight=None, criterion='gini',\n",
              "                       max_depth=None, max_features=None, max_leaf_nodes=None,\n",
              "                       min_impurity_decrease=0.0, min_impurity_split=None,\n",
              "                       min_samples_leaf=1, min_samples_split=2,\n",
              "                       min_weight_fraction_leaf=0.0, presort='deprecated',\n",
              "                       random_state=None, splitter='best')"
            ]
          },
          "metadata": {},
          "execution_count": 27
        }
      ]
    },
    {
      "cell_type": "markdown",
      "metadata": {
        "id": "UQeX2jlbUobC"
      },
      "source": [
        "Graficamos para ver la profundidad optima"
      ]
    },
    {
      "cell_type": "code",
      "metadata": {
        "colab": {
          "base_uri": "https://localhost:8080/",
          "height": 279
        },
        "id": "bJTKPdhHUrGa",
        "outputId": "e5142f13-c3d2-4453-b39a-7cc4081ff9ec"
      },
      "source": [
        "max_depth_lista = list(range(1, 10))\n",
        "# creamos un listado de resultados de exactitud \n",
        "accuracy = []\n",
        "for depth in max_depth_lista:\n",
        "    arbol_clasi = DecisionTreeClassifier(max_depth = depth, random_state = 0)\n",
        "    arbol_clasi.fit(x_train, y_train)\n",
        "    score = arbol_clasi.score(x_test, y_test)\n",
        "    accuracy.append(score)\n",
        "\n",
        "# Graficamos los resultados \n",
        "\n",
        "plt.plot(max_depth_lista,accuracy)\n",
        "plt.ylabel('Precision')\n",
        "plt.xlabel('Profundidad')\n",
        "plt.grid(True)\n",
        "plt.show()"
      ],
      "execution_count": 28,
      "outputs": [
        {
          "output_type": "display_data",
          "data": {
            "image/png": "[encoded data removed]",
            "text/plain": [
              "<Figure size 432x288 with 1 Axes>"
            ]
          },
          "metadata": {
            "needs_background": "light"
          }
        }
      ]
    },
    {
      "cell_type": "markdown",
      "metadata": {
        "id": "aHGyrUHjUwBq"
      },
      "source": [
        "Precicion "
      ]
    },
    {
      "cell_type": "code",
      "metadata": {
        "colab": {
          "base_uri": "https://localhost:8080/"
        },
        "id": "BYAeFJJrUyup",
        "outputId": "da45b17a-ec28-4dbc-a38a-6daceefd33f2"
      },
      "source": [
        "arbol_clasi = DecisionTreeClassifier(max_depth = 3, random_state = 0)\n",
        "\n",
        "arbol_clasi.fit(x_train, y_train)\n",
        "\n",
        "accuary = arbol_clasi.score(x_test, y_test)\n",
        "#calcular la precisión (accuary) del algoritmo\n",
        "print(\"Precision: \"+str(accuary*100)+\" %\")\n",
        "print(\"Puntaje del entrenamiento: \", arbol_clasi.score(x_train,y_train)*100,\"%\\n\\n\")\n",
        "\n",
        "print(\"\\t\\tDatos recolectados del entrenamiento\\n\")\n",
        "y_pred = arbol_clasi.predict(x_test)\n",
        "print(classification_report(y_test,y_pred))\n",
        "print(confusion_matrix(y_test,y_pred),\"\\n\")\n",
        "\n"
      ],
      "execution_count": 38,
      "outputs": [
        {
          "output_type": "stream",
          "name": "stdout",
          "text": [
            "Precision: 97.77777777777777 %\n",
            "Puntaje del entrenamiento:  98.09523809523809 %\n",
            "\n",
            "\n",
            "\t\tDatos recolectados del entrenamiento\n",
            "\n",
            "              precision    recall  f1-score   support\n",
            "\n",
            "           0       1.00      1.00      1.00        16\n",
            "           1       1.00      0.94      0.97        18\n",
            "           2       0.92      1.00      0.96        11\n",
            "\n",
            "    accuracy                           0.98        45\n",
            "   macro avg       0.97      0.98      0.98        45\n",
            "weighted avg       0.98      0.98      0.98        45\n",
            "\n",
            "[[16  0  0]\n",
            " [ 0 17  1]\n",
            " [ 0  0 11]] \n",
            "\n"
          ]
        }
      ]
    },
    {
      "cell_type": "markdown",
      "metadata": {
        "id": "jDPhxLooWEhS"
      },
      "source": [
        "Generando el arbol"
      ]
    },
    {
      "cell_type": "code",
      "metadata": {
        "colab": {
          "base_uri": "https://localhost:8080/"
        },
        "id": "2F3RwFEWVvkf",
        "outputId": "95dc7a6a-454d-4310-a4e6-4f8be97069b4"
      },
      "source": [
        "#para graficar  Iris-Setosa (0), - Iris-Versicolour (1), - Iris-Virginica (2)\n",
        "class_names_list=list(['setosa','versicolor','virginica'])\n",
        "from sklearn.tree import export_graphviz\n",
        "from pydotplus import graph_from_dot_data\n",
        "dot_data = export_graphviz(arbol_clasi,feature_names=db_iris.feature_names, class_names=class_names_list)\n",
        "graph = graph_from_dot_data(dot_data)\n",
        "graph.write_png('tree_iris.png')"
      ],
      "execution_count": 30,
      "outputs": [
        {
          "output_type": "execute_result",
          "data": {
            "text/plain": [
              "True"
            ]
          },
          "metadata": {},
          "execution_count": 30
        }
      ]
    },
    {
      "cell_type": "markdown",
      "metadata": {
        "id": "-xRAvVB7XkFn"
      },
      "source": [
        "#Ejercicio dataset Salary_Data"
      ]
    }
  ]
}